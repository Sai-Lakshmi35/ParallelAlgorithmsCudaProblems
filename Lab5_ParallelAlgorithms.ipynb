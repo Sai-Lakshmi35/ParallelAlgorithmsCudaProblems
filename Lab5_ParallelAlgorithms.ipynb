{
  "nbformat": 4,
  "nbformat_minor": 0,
  "metadata": {
    "colab": {
      "provenance": [],
      "gpuType": "T4",
      "authorship_tag": "ABX9TyPNHBo9/O3huuTy9TvweGQc",
      "include_colab_link": true
    },
    "kernelspec": {
      "name": "python3",
      "display_name": "Python 3"
    },
    "language_info": {
      "name": "python"
    },
    "accelerator": "GPU"
  },
  "cells": [
    {
      "cell_type": "markdown",
      "metadata": {
        "id": "view-in-github",
        "colab_type": "text"
      },
      "source": [
        "<a href=\"https://colab.research.google.com/github/Sai-Lakshmi35/ParallelAlgorithmsCudaProblems/blob/main/Lab5_ParallelAlgorithms.ipynb\" target=\"_parent\"><img src=\"https://colab.research.google.com/assets/colab-badge.svg\" alt=\"Open In Colab\"/></a>"
      ]
    },
    {
      "cell_type": "code",
      "execution_count": null,
      "metadata": {
        "colab": {
          "base_uri": "https://localhost:8080/"
        },
        "id": "FKAgOkRyEE2n",
        "outputId": "f8373c07-f77f-446e-fb5b-b64aaaac1447"
      },
      "outputs": [
        {
          "output_type": "stream",
          "name": "stdout",
          "text": [
            "nvcc: NVIDIA (R) Cuda compiler driver\n",
            "Copyright (c) 2005-2023 NVIDIA Corporation\n",
            "Built on Tue_Aug_15_22:02:13_PDT_2023\n",
            "Cuda compilation tools, release 12.2, V12.2.140\n",
            "Build cuda_12.2.r12.2/compiler.33191640_0\n"
          ]
        }
      ],
      "source": [
        "!nvcc --version"
      ]
    },
    {
      "cell_type": "code",
      "source": [
        "!pip install git+https://github.com/andreinechaev/nvcc4jupyter.git"
      ],
      "metadata": {
        "colab": {
          "base_uri": "https://localhost:8080/"
        },
        "id": "vUQJ_3kCEeli",
        "outputId": "fbab5919-77d9-4609-b8ee-642d1b4e1dec"
      },
      "execution_count": null,
      "outputs": [
        {
          "output_type": "stream",
          "name": "stdout",
          "text": [
            "Collecting git+https://github.com/andreinechaev/nvcc4jupyter.git\n",
            "  Cloning https://github.com/andreinechaev/nvcc4jupyter.git to /tmp/pip-req-build-9x9zyirh\n",
            "  Running command git clone --filter=blob:none --quiet https://github.com/andreinechaev/nvcc4jupyter.git /tmp/pip-req-build-9x9zyirh\n",
            "  Resolved https://github.com/andreinechaev/nvcc4jupyter.git to commit 5cd225851b7638f3f6d55a19328295f16c014079\n",
            "  Installing build dependencies ... \u001b[?25l\u001b[?25hdone\n",
            "  Getting requirements to build wheel ... \u001b[?25l\u001b[?25hdone\n",
            "  Preparing metadata (pyproject.toml) ... \u001b[?25l\u001b[?25hdone\n",
            "Building wheels for collected packages: nvcc4jupyter\n",
            "  Building wheel for nvcc4jupyter (pyproject.toml) ... \u001b[?25l\u001b[?25hdone\n",
            "  Created wheel for nvcc4jupyter: filename=nvcc4jupyter-1.0.3-py3-none-any.whl size=7432 sha256=ad99cf1e6175f37f13398802e9e82d42885745e385f9d1c2ce678f3d359f3a95\n",
            "  Stored in directory: /tmp/pip-ephem-wheel-cache-i5hm742a/wheels/a8/b9/18/23f8ef71ceb0f63297dd1903aedd067e6243a68ea756d6feea\n",
            "Successfully built nvcc4jupyter\n",
            "Installing collected packages: nvcc4jupyter\n",
            "Successfully installed nvcc4jupyter-1.0.3\n"
          ]
        }
      ]
    },
    {
      "cell_type": "code",
      "source": [
        "pip install nvcc4jupyter"
      ],
      "metadata": {
        "colab": {
          "base_uri": "https://localhost:8080/"
        },
        "id": "vvIDcIvqEqPM",
        "outputId": "8b81a4b2-dae0-4b25-fdd0-0e5a212ae892"
      },
      "execution_count": null,
      "outputs": [
        {
          "output_type": "stream",
          "name": "stdout",
          "text": [
            "Requirement already satisfied: nvcc4jupyter in /usr/local/lib/python3.10/dist-packages (1.0.3)\n"
          ]
        }
      ]
    },
    {
      "cell_type": "code",
      "source": [
        "%load_ext nvcc4jupyter\n"
      ],
      "metadata": {
        "colab": {
          "base_uri": "https://localhost:8080/"
        },
        "id": "LXwCOlDeE7Gy",
        "outputId": "4eaeafb2-0569-4462-dc50-11f10bfe7348"
      },
      "execution_count": null,
      "outputs": [
        {
          "output_type": "stream",
          "name": "stdout",
          "text": [
            "Source files will be saved in \"/tmp/tmpe3xc0fr6\".\n"
          ]
        }
      ]
    },
    {
      "cell_type": "code",
      "source": [
        "%%cuda\n",
        "#include <stdlib.h>\n",
        "#include <stdio.h>\n",
        "#include <time.h>\n",
        "/* Every thread gets exactly one value in the unsorted array. */\n",
        "#define THREADS 512 // 2^9\n",
        "#define BLOCKS 32768 // 2^15\n",
        "#define NUM_VALS THREADS*BLOCKS\n",
        "void print_elapsed(clock_t start, clock_t stop)\n",
        "{\n",
        "  double elapsed = ((double) (stop - start)) / CLOCKS_PER_SEC;\n",
        "  printf(\"Elapsed time: %.3fs\\n\", elapsed);\n",
        "}\n",
        "float random_float()\n",
        "{\n",
        "  return (float)rand()/(float)RAND_MAX;\n",
        "}\n",
        "void array_print(float *arr, int length)\n",
        "{\n",
        "  int i;\n",
        "  for (i = 0; i < length; ++i) {\n",
        "    printf(\"%1.3f \",  arr[i]);\n",
        "  }\n",
        "  printf(\"\\n\");\n",
        "}\n",
        "void array_fill(float *arr, int length)\n",
        "{\n",
        "  srand(time(NULL));\n",
        "  int i;\n",
        "  for (i = 0; i < length; ++i) {\n",
        "    arr[i] = random_float();\n",
        "  }\n",
        "}\n",
        "__global__ void bitonic_sort_step(float *dev_values, int j, int k)\n",
        "{\n",
        "  unsigned int i, ixj; /* Sorting partners: i and ixj */\n",
        "  i = threadIdx.x + blockDim.x * blockIdx.x;\n",
        "  ixj = i^j;\n",
        "  /* The threads with the lowest ids sort the array. */\n",
        "  if ((ixj)>i) {\n",
        "    if ((i&k)==0) {\n",
        "      /* Sort ascending */\n",
        "      if (dev_values[i]>dev_values[ixj]) {\n",
        "        /* exchange(i,ixj); */\n",
        "        float temp = dev_values[i];\n",
        "        dev_values[i] = dev_values[ixj];\n",
        "        dev_values[ixj] = temp;\n",
        "      }\n",
        "    }\n",
        "    if ((i&k)!=0) {\n",
        "      /* Sort descending */\n",
        "      if (dev_values[i]<dev_values[ixj]) {\n",
        "        /* exchange(i,ixj); */\n",
        "        float temp = dev_values[i];\n",
        "        dev_values[i] = dev_values[ixj];\n",
        "        dev_values[ixj] = temp;\n",
        "      }\n",
        "    }\n",
        "  }\n",
        "}\n",
        "/**\n",
        " * Inplace bitonic sort using CUDA.\n",
        " */\n",
        "void bitonic_sort(float *values)\n",
        "{\n",
        "  float *dev_values;\n",
        "  size_t size = NUM_VALS * sizeof(float);\n",
        "  cudaMalloc((void**) &dev_values, size);\n",
        "  cudaMemcpy(dev_values, values, size, cudaMemcpyHostToDevice);\n",
        "  dim3 blocks(BLOCKS,1);    /* Number of blocks   */\n",
        "  dim3 threads(THREADS,1);  /* Number of threads  */\n",
        "  int j, k;\n",
        "  /* Major step */\n",
        "  for (k = 2; k <= NUM_VALS; k <<= 1) {\n",
        "    /* Minor step */\n",
        "    for (j=k>>1; j>0; j=j>>1) {\n",
        "      bitonic_sort_step<<<blocks, threads>>>(dev_values, j, k);\n",
        "    }\n",
        "  }\n",
        "  cudaMemcpy(values, dev_values, size, cudaMemcpyDeviceToHost);\n",
        "  cudaFree(dev_values);\n",
        "}\n",
        "\n",
        "int main(void)\n",
        "{\n",
        "  clock_t start, stop;\n",
        "  float *values = (float*) malloc( NUM_VALS * sizeof(float));\n",
        "  array_fill(values, NUM_VALS);\n",
        "  start = clock();\n",
        "  bitonic_sort(values); /* Inplace */\n",
        "  stop = clock();\n",
        "  print_elapsed(start, stop);\n",
        "}"
      ],
      "metadata": {
        "colab": {
          "base_uri": "https://localhost:8080/"
        },
        "id": "aU501AsUHb9H",
        "outputId": "4dd362bb-debf-4d37-975e-38d32312fdc4"
      },
      "execution_count": null,
      "outputs": [
        {
          "output_type": "stream",
          "name": "stdout",
          "text": [
            "Elapsed time: 0.450s\n",
            "\n"
          ]
        }
      ]
    },
    {
      "cell_type": "code",
      "source": [
        "%%cuda\n",
        "#include <stdlib.h>\n",
        "#include <stdio.h>\n",
        "#include <time.h>\n",
        "__global__ void MergeSort(int *nums, int *temp, int n) {\n",
        "    int tid = threadIdx.x + blockDim.x * blockIdx.x;\n",
        "    for (int i = 2; i < 2 * n; i *= 2) {\n",
        "        int len = i;\n",
        "        if (n - tid < len) len = n - tid;\n",
        "        if (tid % i == 0) {\n",
        "            int *seqA = &nums[tid], lenA = i / 2, j = 0;\n",
        "            int *seqB = &nums[tid + lenA], lenB = len - lenA, k = 0;\n",
        "            int p = tid;\n",
        "            while (j < lenA && k < lenB) {\n",
        "                if (seqA[j] < seqB[k]) {\n",
        "                    temp[p++] = seqA[j++];\n",
        "                } else {\n",
        "                    temp[p++] = seqB[k++];\n",
        "                }\n",
        "            }\n",
        "            while (j < lenA)\n",
        "                temp[p++] = seqA[j++];\n",
        "            while (k < lenB)\n",
        "                temp[p++] = seqB[k++];\n",
        "            for (int j = tid; j < tid + len; j++)\n",
        "                nums[j] = temp[j];\n",
        "        }\n",
        "        __syncthreads();\n",
        "    }\n",
        "}\n",
        "int main() {\n",
        "    clock_t start_t = clock();\n",
        "    int long size = 1024 * 1024;\n",
        "    int *nums = (int*)malloc(sizeof(int) * size);\n",
        "    srand(time(0));\n",
        "    for (int long i = 0; i < size; ++i) {\n",
        "        nums[i] = rand();\n",
        "        //printf(\"%d\\t %i\", nums[i],i);\n",
        "       }\n",
        "    int *dNums;\n",
        "    cudaMalloc((void**)&dNums, sizeof(int) * size);\n",
        "    cudaMemcpy(dNums, nums, sizeof(int) * size, cudaMemcpyHostToDevice);\n",
        "    int *dTemp;\n",
        "    cudaMalloc((void**)&dTemp, sizeof(int) * size);\n",
        "    dim3 threadPerBlock(1024);\n",
        "    dim3 blockNum((size + threadPerBlock.x - 1) / threadPerBlock.x);\n",
        "    MergeSort<<<blockNum, threadPerBlock>>>(dNums, dTemp, size);\n",
        "    cudaMemcpy(nums, dNums, sizeof(int) * size, cudaMemcpyDeviceToHost);\n",
        "    /* for (int long i = 0; i < size; ++i) {\n",
        "         printf(\"%d \", nums[i]);\n",
        "     }*/\n",
        "     printf(\"\\n\");\n",
        "    free(nums);\n",
        "    cudaFree(dNums);\n",
        "    cudaFree(dTemp);\n",
        "    printf(\"Number of numbers: %d\\n\", size);\n",
        "    printf(\"Merge Sorting time: %fms\\n\", clock() - start_t);\n",
        "}"
      ],
      "metadata": {
        "colab": {
          "base_uri": "https://localhost:8080/"
        },
        "id": "DFPaskR-IxOU",
        "outputId": "1504d2ed-31f4-49f4-c17a-681a7867124c"
      },
      "execution_count": null,
      "outputs": [
        {
          "output_type": "stream",
          "name": "stdout",
          "text": [
            "\n",
            "Number of numbers: 1048576\n",
            "Merge Sorting time: 0.000000ms\n",
            "\n"
          ]
        }
      ]
    }
  ]
}